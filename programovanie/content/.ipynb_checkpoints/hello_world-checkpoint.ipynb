{
 "cells": [
  {
   "cell_type": "raw",
   "id": "4f75643d-8989-45f0-a86e-8da20d02235c",
   "metadata": {},
   "source": [
    "---\n",
    "title: \"Prvé programy a výstup\"\n",
    "date: today\n",
    "author: \"Jakub Šperka\"\n",
    "categories: [JupyterLab, print, Hello World !]\n",
    "---"
   ]
  },
  {
   "cell_type": "markdown",
   "id": "1cfa68c6-ac30-4ae6-b4e5-72972cf146ad",
   "metadata": {
    "jp-MarkdownHeadingCollapsed": true
   },
   "source": [
    "## 🐍 Úvod\n",
    "\n",
    "Prvý program v jazyku Python býva zvyčajne veľmi jednoduchý. Často vypisuje iba text na obrazovku – typicky `Hello, world!`. Na to slúži základná funkcia `print()`.\n",
    "\n",
    "---"
   ]
  },
  {
   "cell_type": "markdown",
   "id": "ce947f2e-3566-44b6-afca-8d423872b6e6",
   "metadata": {},
   "source": [
    "## 🧪 Základný výstup"
   ]
  },
  {
   "cell_type": "code",
   "execution_count": 1,
   "id": "a1b79d55-0267-473b-bb75-49c5260ac86e",
   "metadata": {},
   "outputs": [
    {
     "name": "stdout",
     "output_type": "stream",
     "text": [
      "Hello, world!\n"
     ]
    }
   ],
   "source": [
    "print(\"Hello, world!\")"
   ]
  },
  {
   "cell_type": "markdown",
   "id": "794a6c44-d470-4b60-aafc-3bb320c1f80d",
   "metadata": {},
   "source": [
    "> ❕ Funkcia `print()` slúži na výpis textu alebo hodnôt do konzoly. Všetko, čo sa nachádza v zátvorkách, sa vypíše.\n",
    "\n",
    "---"
   ]
  },
  {
   "cell_type": "markdown",
   "id": "b8a695cc-57a5-4806-9d0e-85ba14323e7d",
   "metadata": {},
   "source": [
    "## 🔡 Textový reťazec\n",
    "\n",
    "Text, ktorý vypisujeme, musí byť v **úvodzovkách**:"
   ]
  },
  {
   "cell_type": "code",
   "execution_count": 2,
   "id": "6a019c00-4f62-495c-974a-db64f4fbf1e2",
   "metadata": {},
   "outputs": [
    {
     "name": "stdout",
     "output_type": "stream",
     "text": [
      "Toto je text\n",
      "Aj toto je text\n"
     ]
    }
   ],
   "source": [
    "print(\"Toto je text\")\n",
    "print('Aj toto je text')"
   ]
  },
  {
   "cell_type": "markdown",
   "id": "811fa273-f2bc-4024-94fd-e00c173f94e0",
   "metadata": {},
   "source": [
    "> ❕ Môžeme použiť jednoduché `'` alebo dvojité `\"` úvodzovky.\n",
    "\n",
    "---"
   ]
  },
  {
   "cell_type": "markdown",
   "id": "3cbb1ab2-bd26-45d7-a809-c1bfe1d73e51",
   "metadata": {},
   "source": [
    "## ➕ Viacero hodnôt\n",
    "\n",
    "Do funkcie `print()` môžeme dať viacero hodnôt oddelených čiarkami:"
   ]
  },
  {
   "cell_type": "code",
   "execution_count": 3,
   "id": "18bddc2a-38e8-4aa0-b81f-7ea4e641d611",
   "metadata": {},
   "outputs": [
    {
     "name": "stdout",
     "output_type": "stream",
     "text": [
      "Súčet 2 + 3 je 5\n"
     ]
    }
   ],
   "source": [
    "print(\"Súčet 2 + 3 je\", 2 + 3)"
   ]
  },
  {
   "cell_type": "markdown",
   "id": "682429d2-db6c-487d-87f4-d3692b128252",
   "metadata": {},
   "source": [
    "> ❕ Python automaticky vloží medzeru medzi jednotlivé časti výpisu."
   ]
  },
  {
   "cell_type": "markdown",
   "id": "5302d201-ac00-40fe-ba63-7a552cefd01f",
   "metadata": {},
   "source": [
    "---\n",
    "\n",
    "## 🧠 Zhrununie\n",
    "\n",
    "- `print()` je vstavaná funkcia, ktorá nevyžaduje žiadne knižnice.\n",
    "- Používa sa na výpis textu, čísel, premenných aj výpočtov.\n",
    "- Každé volanie `print()` skončí automaticky **novým riadkom**.\n",
    "\n",
    "---"
   ]
  },
  {
   "cell_type": "markdown",
   "id": "c93854d9-97f6-4fd7-9825-09e7fffac1a4",
   "metadata": {},
   "source": [
    "## 💡 Príklady"
   ]
  },
  {
   "cell_type": "code",
   "execution_count": 4,
   "id": "186a6296-4679-410f-9975-1464f44169c4",
   "metadata": {},
   "outputs": [
    {
     "name": "stdout",
     "output_type": "stream",
     "text": [
      "123\n",
      "Výsledok: 10\n",
      "12\n"
     ]
    }
   ],
   "source": [
    "print(123)              # vypíše číslo\n",
    "print(\"Výsledok:\", 10)  # vypíše text aj číslo\n",
    "print(5 + 7)            # vypíše výsledok výrazu"
   ]
  },
  {
   "cell_type": "markdown",
   "id": "b9cb1362-cbf2-47b6-aa3e-9833b4714b80",
   "metadata": {},
   "source": [
    "---\n",
    "\n",
    "## 🎞️ Videonávod\n",
    "\n",
    "{{< video https://www.youtube.com/embed/wo9vZccmqwc \n",
    "    title='Prvé programy a výstup' \n",
    ">}}\n",
    "\n",
    "---"
   ]
  }
 ],
 "metadata": {
  "kernelspec": {
   "display_name": "Python 3 (ipykernel)",
   "language": "python",
   "name": "python3"
  },
  "language_info": {
   "codemirror_mode": {
    "name": "ipython",
    "version": 3
   },
   "file_extension": ".py",
   "mimetype": "text/x-python",
   "name": "python",
   "nbconvert_exporter": "python",
   "pygments_lexer": "ipython3",
   "version": "3.12.4"
  }
 },
 "nbformat": 4,
 "nbformat_minor": 5
}
