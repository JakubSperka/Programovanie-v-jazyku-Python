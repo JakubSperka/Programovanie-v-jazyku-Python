{
 "cells": [
  {
   "cell_type": "raw",
   "id": "ae96db07-a905-44b4-873d-b05c14f4b222",
   "metadata": {},
   "source": [
    "---\n",
    "title: \"Konverzia dátových typov\"\n",
    "date: today\n",
    "author: \"Jakub Šperka\"\n",
    "categories: [JupyterLab, type, Konverzia]\n",
    "---"
   ]
  },
  {
   "cell_type": "markdown",
   "id": "6c108ae5",
   "metadata": {},
   "source": [
    "## 🔁 Úvod\n",
    "\n",
    "Funkcia `type()` zistí, aký **dátový typ** má hodnota alebo premenná.\n",
    "\n",
    "---"
   ]
  },
  {
   "cell_type": "markdown",
   "id": "b88228a0",
   "metadata": {},
   "source": [
    "## 🧪 Príklad:"
   ]
  },
  {
   "cell_type": "code",
   "execution_count": 1,
   "id": "763dc36b",
   "metadata": {},
   "outputs": [
    {
     "name": "stdout",
     "output_type": "stream",
     "text": [
      "<class 'int'>\n",
      "<class 'float'>\n",
      "<class 'str'>\n",
      "<class 'bool'>\n"
     ]
    }
   ],
   "source": [
    "print(type(10))\n",
    "print(type(3.14))\n",
    "print(type(\"text\"))\n",
    "print(type(True))"
   ]
  },
  {
   "cell_type": "markdown",
   "id": "21b1e41a",
   "metadata": {},
   "source": [
    "---\n",
    "\n",
    "## 🔄 Prevod (konverzia) medzi typmi\n",
    "\n",
    "Python umožňuje prevádzať hodnoty medzi typmi pomocou vstavaných funkcií:\n",
    "\n",
    "| Funkcia     | Účel                       | Príklad         |\n",
    "|-------------|----------------------------|-----------------|\n",
    "| `int(x)`    | na celé číslo              | `int(\"5\")` → `5` |\n",
    "| `float(x)`  | na desatinné číslo         | `float(\"3.14\")` |\n",
    "| `str(x)`    | na reťazec                 | `str(10)` → \"10\" |\n",
    "| `bool(x)`   | na logickú hodnotu         | `bool(0)` → `False` |\n",
    "\n",
    "---"
   ]
  },
  {
   "cell_type": "markdown",
   "id": "be99fa64",
   "metadata": {},
   "source": [
    "## 📦 Príklady prevodov"
   ]
  },
  {
   "cell_type": "code",
   "execution_count": 2,
   "id": "3e46e135",
   "metadata": {},
   "outputs": [
    {
     "name": "stdout",
     "output_type": "stream",
     "text": [
      "43\n",
      "3.14!\n"
     ]
    }
   ],
   "source": [
    "x = \"42\"\n",
    "cislo = int(x)\n",
    "print(cislo + 1)\n",
    "\n",
    "y = 3.14\n",
    "text = str(y)\n",
    "print(text + \"!\")"
   ]
  },
  {
   "cell_type": "markdown",
   "id": "6d56e113",
   "metadata": {},
   "source": [
    "---\n",
    "\n",
    "## 💥 Chybné prevody"
   ]
  },
  {
   "cell_type": "code",
   "execution_count": 3,
   "id": "9422c428",
   "metadata": {},
   "outputs": [],
   "source": [
    "# int(\"abc\")     # chyba: nedá sa previesť na číslo\n",
    "# float(\"3,14\")  # chyba: použi bodku namiesto čiarky"
   ]
  },
  {
   "cell_type": "markdown",
   "id": "669952b0",
   "metadata": {},
   "source": [
    "---\n",
    "\n",
    "## 🧠 Zhrnutie\n",
    "\n",
    "- `type(x)` zistí typ hodnoty alebo premennej.\n",
    "- `int()`, `float()`, `str()`, `bool()` slúžia na prevody.\n",
    "- Niektoré prevody môžu spôsobiť chybu, ak formát nie je správny.\n",
    "- Reťazec musí byť číselný, aby sa dal previesť na `int` alebo `float`."
   ]
  },
  {
   "cell_type": "markdown",
   "id": "77356fa0-8d12-4121-b7b4-c507992cc1b8",
   "metadata": {},
   "source": [
    "---\n",
    "\n",
    "## 🎞️ Videonávod\n",
    "\n",
    "{{< video https://www.youtube.com/embed/wo9vZccmqwc \n",
    "    title='Používateľský vstup' \n",
    ">}}\n",
    "\n",
    "---"
   ]
  }
 ],
 "metadata": {
  "kernelspec": {
   "display_name": "Python 3 (ipykernel)",
   "language": "python",
   "name": "python3"
  },
  "language_info": {
   "codemirror_mode": {
    "name": "ipython",
    "version": 3
   },
   "file_extension": ".py",
   "mimetype": "text/x-python",
   "name": "python",
   "nbconvert_exporter": "python",
   "pygments_lexer": "ipython3",
   "version": "3.12.4"
  }
 },
 "nbformat": 4,
 "nbformat_minor": 5
}
