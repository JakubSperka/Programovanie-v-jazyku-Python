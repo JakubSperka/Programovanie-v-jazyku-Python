{
 "cells": [
  {
   "cell_type": "raw",
   "id": "2756a078-37ea-4daa-94f3-d1a83168f2ef",
   "metadata": {},
   "source": [
    "---\n",
    "title: \"Komentovanie kódu\"\n",
    "date: today\n",
    "author: \"Jakub Šperka\"\n",
    "categories: [JupyterLab, Komentovanie]\n",
    "---"
   ]
  },
  {
   "cell_type": "markdown",
   "id": "359256f7",
   "metadata": {},
   "source": [
    "## 💬 Úvod\n",
    "\n",
    "Komentáre slúžia na **poznámky v kóde**, ktoré **neovplyvňujú beh programu**. Používajú sa na vysvetlenie, čo kód robí, alebo na **dočasné vypnutie časti kódu**.\n",
    "\n",
    "---"
   ]
  },
  {
   "cell_type": "markdown",
   "id": "b83f1487",
   "metadata": {},
   "source": [
    "## 📝 Jednoriadkový komentár\n",
    "\n",
    "Použite `#` na začiatku každého riadka:"
   ]
  },
  {
   "cell_type": "code",
   "execution_count": 1,
   "id": "69dc9503",
   "metadata": {},
   "outputs": [
    {
     "name": "stdout",
     "output_type": "stream",
     "text": [
      "Ahoj\n"
     ]
    }
   ],
   "source": [
    "# Toto je komentár\n",
    "print(\"Ahoj\")  # Tento riadok niečo vypíše"
   ]
  },
  {
   "cell_type": "markdown",
   "id": "b59864ff",
   "metadata": {},
   "source": [
    "---\n",
    "\n",
    "## 🧾 Viacero komentárov"
   ]
  },
  {
   "cell_type": "code",
   "execution_count": 2,
   "id": "e3a4b728",
   "metadata": {},
   "outputs": [
    {
     "name": "stdout",
     "output_type": "stream",
     "text": [
      "8\n"
     ]
    }
   ],
   "source": [
    "# Tento program spočíta súčet\n",
    "a = 5\n",
    "b = 3\n",
    "# Spočítame a vypíšeme výsledok\n",
    "print(a + b)"
   ]
  },
  {
   "cell_type": "markdown",
   "id": "1b0565fd",
   "metadata": {},
   "source": [
    "---\n",
    "\n",
    "## 🛑 Dočasné zakázanie kódu\n",
    "\n",
    "Komentármi môžete zabrániť vykonaniu časti kódu, ktorú momentálne nechcete spustiť:"
   ]
  },
  {
   "cell_type": "code",
   "execution_count": 3,
   "id": "93ae8c27",
   "metadata": {},
   "outputs": [
    {
     "name": "stdout",
     "output_type": "stream",
     "text": [
      "Tento áno\n"
     ]
    }
   ],
   "source": [
    "# print(\"Tento riadok sa nespustí\")\n",
    "print(\"Tento áno\")"
   ]
  },
  {
   "cell_type": "markdown",
   "id": "289a8fb2-af5f-474a-9a22-5740f714fbd1",
   "metadata": {},
   "source": [
    "> ❕Toto je veľmi užitočné pri testovaní alebo ladení programu."
   ]
  },
  {
   "cell_type": "markdown",
   "id": "12c2fef9",
   "metadata": {},
   "source": [
    "---\n",
    "\n",
    "## ❗ Viacriadkový text\n",
    "\n",
    "Viacriadkový text možno napísať pomocou trojitých úvodzoviek (''' alebo \"\"\"), ale nie je to komentár – je to reťazec, ktorý však Python nedokáže spustiť."
   ]
  },
  {
   "cell_type": "code",
   "execution_count": 4,
   "id": "0063fb5f-a385-436f-ac1d-992c14ad0842",
   "metadata": {},
   "outputs": [
    {
     "data": {
      "text/plain": [
       "'\\nToto je viacriadkový text,\\nktorý ale Python vníma ako reťazec.\\n'"
      ]
     },
     "execution_count": 4,
     "metadata": {},
     "output_type": "execute_result"
    }
   ],
   "source": [
    "\"\"\"\n",
    "Toto je viacriadkový text,\n",
    "ktorý ale Python vníma ako reťazec.\n",
    "\"\"\""
   ]
  },
  {
   "cell_type": "markdown",
   "id": "16c63ef0",
   "metadata": {},
   "source": [
    "---\n",
    "\n",
    "## 🧠 Zhrnutie\n",
    "\n",
    "- Komentáre píšeme pomocou `#`\n",
    "- Slúžia na poznámky aj dočasné zakázanie kódu\n",
    "- Pomáhajú robiť kód prehľadnejší\n",
    "- Nie sú súčasťou vykonávaného programu"
   ]
  },
  {
   "cell_type": "markdown",
   "id": "e85c9775-2302-482e-8277-62172a4cf084",
   "metadata": {},
   "source": [
    "---\n",
    "\n",
    "## 🎞️ Videonávod\n",
    "\n",
    "{{< video https://www.youtube.com/embed/wo9vZccmqwc \n",
    "    title='Komentovanie kódu \n",
    ">}}\n",
    "\n",
    "---"
   ]
  }
 ],
 "metadata": {
  "kernelspec": {
   "display_name": "Python 3 (ipykernel)",
   "language": "python",
   "name": "python3"
  },
  "language_info": {
   "codemirror_mode": {
    "name": "ipython",
    "version": 3
   },
   "file_extension": ".py",
   "mimetype": "text/x-python",
   "name": "python",
   "nbconvert_exporter": "python",
   "pygments_lexer": "ipython3",
   "version": "3.12.4"
  }
 },
 "nbformat": 4,
 "nbformat_minor": 5
}
