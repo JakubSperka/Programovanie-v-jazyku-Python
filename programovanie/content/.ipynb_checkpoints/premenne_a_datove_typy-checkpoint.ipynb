{
 "cells": [
  {
   "cell_type": "raw",
   "id": "e135e95c-e652-47bc-ac5e-6eac2102b611",
   "metadata": {},
   "source": [
    "---\n",
    "title: \"Premenné a dátové typy\"\n",
    "date: today\n",
    "author: \"Jakub Šperka\"\n",
    "categories: [JupyterLab, Premenné, Dátové typy]\n",
    "---"
   ]
  },
  {
   "cell_type": "markdown",
   "id": "6fc0df5b",
   "metadata": {},
   "source": [
    "## 📦 Úvod\n",
    "\n",
    "Premenné slúžia na **uloženie údajov**, ktoré môžeme neskôr opakovane použiť. V Pythone nie je potrebné vopred určovať typ premennej – typ sa určí automaticky podľa toho, čo do premennej uložíme.\n",
    "\n",
    "---"
   ]
  },
  {
   "cell_type": "markdown",
   "id": "e2f4fb94",
   "metadata": {},
   "source": [
    "## 🧪 Základné použitie premennej"
   ]
  },
  {
   "cell_type": "code",
   "execution_count": 1,
   "id": "1c605cb8",
   "metadata": {},
   "outputs": [
    {
     "name": "stdout",
     "output_type": "stream",
     "text": [
      "5\n",
      "Anna\n"
     ]
    }
   ],
   "source": [
    "x = 5\n",
    "meno = \"Anna\"\n",
    "print(x)\n",
    "print(meno)"
   ]
  },
  {
   "cell_type": "markdown",
   "id": "05220a92",
   "metadata": {},
   "source": [
    "---\n",
    "\n",
    "## 🧠 Názvy premenných\n",
    "\n",
    "- Musia začínať **písmenom alebo podčiarkovníkom** `_`\n",
    "- Môžu obsahovať len **písmená, číslice a podčiarkovníky**\n",
    "- **Nemôžu** obsahovať medzery ani špeciálne znaky\n",
    "- **Nepoužívajte kľúčové slová**(názvy funkcií) jazyka Python (napr. `if`, `print`, `for`, ...)\n",
    "\n",
    "✅ __Platné:__"
   ]
  },
  {
   "cell_type": "code",
   "execution_count": 2,
   "id": "585bec58",
   "metadata": {},
   "outputs": [],
   "source": [
    "vek = 20\n",
    "meno_studenta = \"Jakub\"\n",
    "_x = 3.14"
   ]
  },
  {
   "cell_type": "markdown",
   "id": "372cf0b7",
   "metadata": {},
   "source": [
    "❌ __Neplatné (nespúšťajte, spôsobia chybu):__"
   ]
  },
  {
   "cell_type": "code",
   "execution_count": 3,
   "id": "79eec86a",
   "metadata": {},
   "outputs": [],
   "source": [
    "# 2cislo = 10       # začína číslom\n",
    "# moje meno = \"Ján\" # obsahuje medzeru\n",
    "# if = \"niečo\"      # kľúčové slovo"
   ]
  },
  {
   "cell_type": "markdown",
   "id": "1763fb55",
   "metadata": {},
   "source": [
    "---\n",
    "\n",
    "## 🔢 Základné dátové typy\n",
    "\n",
    "| Typ    | Príklad     | Popis            |\n",
    "|--------|-------------|------------------|\n",
    "| `int`  | `10`, `-3`   | celé číslo       |\n",
    "| `float`| `3.14`       | desatinné číslo  |\n",
    "| `str`  | `'text'`     | reťazec (text)   |\n",
    "| `bool` | `True`, `False` | logická hodnota |\n",
    "\n",
    "---"
   ]
  },
  {
   "cell_type": "markdown",
   "id": "23f4505d",
   "metadata": {},
   "source": [
    "## 🔍 Ukážky typov"
   ]
  },
  {
   "cell_type": "code",
   "execution_count": 4,
   "id": "45452822",
   "metadata": {},
   "outputs": [
    {
     "name": "stdout",
     "output_type": "stream",
     "text": [
      "<class 'int'>\n",
      "<class 'float'>\n",
      "<class 'str'>\n",
      "<class 'bool'>\n"
     ]
    }
   ],
   "source": [
    "cislo = 42\n",
    "pi = 3.14\n",
    "meno = \"Zuzana\"\n",
    "pravda = True\n",
    "\n",
    "print(type(cislo))\n",
    "print(type(pi))\n",
    "print(type(meno))\n",
    "print(type(pravda))"
   ]
  },
  {
   "cell_type": "markdown",
   "id": "55c68cf6",
   "metadata": {},
   "source": [
    "---\n",
    "\n",
    "## 🎯 Premenné môžeme meniť"
   ]
  },
  {
   "cell_type": "code",
   "execution_count": 5,
   "id": "8b176d8d",
   "metadata": {},
   "outputs": [
    {
     "name": "stdout",
     "output_type": "stream",
     "text": [
      "10\n",
      "text\n"
     ]
    }
   ],
   "source": [
    "x = 10\n",
    "print(x)\n",
    "x = \"text\"\n",
    "print(x)"
   ]
  },
  {
   "cell_type": "markdown",
   "id": "84d7f912",
   "metadata": {},
   "source": [
    "---\n",
    "\n",
    "## 🔁 Operácie podľa typu"
   ]
  },
  {
   "cell_type": "code",
   "execution_count": 6,
   "id": "64fd7751",
   "metadata": {},
   "outputs": [
    {
     "name": "stdout",
     "output_type": "stream",
     "text": [
      "7\n",
      "ahoj svet\n",
      "1\n"
     ]
    }
   ],
   "source": [
    "a = 5\n",
    "b = 2\n",
    "print(a + b)\n",
    "\n",
    "s1 = \"ahoj \"\n",
    "s2 = \"svet\"\n",
    "print(s1 + s2)\n",
    "\n",
    "x = True\n",
    "y = False\n",
    "print(x + y)"
   ]
  },
  {
   "cell_type": "markdown",
   "id": "441f9a0d",
   "metadata": {},
   "source": [
    "---\n",
    "\n",
    "## 🧠 Zhrnutie\n",
    "\n",
    "- Premenná je pomenovaná hodnota, ktorú môžeme meniť.\n",
    "- Typ premennej sa určuje automaticky.\n",
    "- Najčastejšie typy: `int`, `float`, `str`, `bool`\n",
    "- Funkcia `type()` zobrazí typ premennej.\n",
    "- Názvy premenných musia dodržiavať pravidlá!"
   ]
  },
  {
   "cell_type": "markdown",
   "id": "9cde64ef-6c24-4a07-bde6-ba03bdba305c",
   "metadata": {},
   "source": [
    "---\n",
    "\n",
    "## 🎞️ Videonávod\n",
    "\n",
    "{{< video https://www.youtube.com/embed/wo9vZccmqwc \n",
    "    title='Prvé programy a výstup' \n",
    ">}}\n",
    "\n",
    "---"
   ]
  }
 ],
 "metadata": {
  "kernelspec": {
   "display_name": "Python 3 (ipykernel)",
   "language": "python",
   "name": "python3"
  },
  "language_info": {
   "codemirror_mode": {
    "name": "ipython",
    "version": 3
   },
   "file_extension": ".py",
   "mimetype": "text/x-python",
   "name": "python",
   "nbconvert_exporter": "python",
   "pygments_lexer": "ipython3",
   "version": "3.12.4"
  }
 },
 "nbformat": 4,
 "nbformat_minor": 5
}
