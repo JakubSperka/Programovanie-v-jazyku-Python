{
 "cells": [
  {
   "cell_type": "raw",
   "id": "6452130d-f789-4d9e-a924-8c43f09fa4c9",
   "metadata": {},
   "source": [
    "---\n",
    "title: \"Vstup od používateľa\"\n",
    "date: today\n",
    "author: \"Jakub Šperka\"\n",
    "categories: [JupyterLab, Pouťívateľ, input]\n",
    "---"
   ]
  },
  {
   "cell_type": "markdown",
   "id": "3fb55f9a",
   "metadata": {},
   "source": [
    "## ⌨️ Úvod\n",
    "\n",
    "Funkcia `input()` slúži na **získanie údajov od používateľa**. Keď program zavolá `input()`, čaká, kým používateľ niečo zadá a stlačí Enter. Zadaný text sa vráti ako **reťazec (`str`)**.\n",
    "\n",
    "> ⚠️ Kedže webová stránka nie je dynamická, je potrebné si kódy s funkciou ´input´ spustiť vo vlastnom prostredí.\n",
    "\n",
    "---"
   ]
  },
  {
   "cell_type": "markdown",
   "id": "83f22899",
   "metadata": {},
   "source": [
    "## 🧪 Základné použitie"
   ]
  },
  {
   "cell_type": "code",
   "execution_count": null,
   "id": "a792b594",
   "metadata": {},
   "outputs": [],
   "source": [
    "meno = input(\"Ako sa voláš? \")\n",
    "print(\"Ahoj,\", meno)"
   ]
  },
  {
   "cell_type": "markdown",
   "id": "3506ca0a",
   "metadata": {},
   "source": [
    "---\n",
    "\n",
    "## 📦 Hodnota je vždy `str`"
   ]
  },
  {
   "cell_type": "code",
   "execution_count": null,
   "id": "be7a8860",
   "metadata": {},
   "outputs": [],
   "source": [
    "vek = input(\"Zadaj vek: \")\n",
    "print(type(vek))"
   ]
  },
  {
   "cell_type": "markdown",
   "id": "2e215705",
   "metadata": {},
   "source": [
    "---\n",
    "\n",
    "## 🔁 Prevod na číslo"
   ]
  },
  {
   "cell_type": "code",
   "execution_count": null,
   "id": "1615331a",
   "metadata": {},
   "outputs": [],
   "source": [
    "vek = input(\"Zadaj vek: \")\n",
    "vek = int(vek)\n",
    "print(\"O rok budeš mať\", vek + 1)"
   ]
  },
  {
   "cell_type": "markdown",
   "id": "03ed82cf-9a53-4387-953e-bded700be7ed",
   "metadata": {},
   "source": [
    "### 💡 Príklad"
   ]
  },
  {
   "cell_type": "code",
   "execution_count": null,
   "id": "891a559c",
   "metadata": {},
   "outputs": [],
   "source": [
    "cena = float(input(\"Zadaj cenu v €: \"))\n",
    "print(\"Cena s DPH:\", cena * 1.23)"
   ]
  },
  {
   "cell_type": "markdown",
   "id": "0419aeeb",
   "metadata": {},
   "source": [
    "---\n",
    "\n",
    "## 💥 Chyby pri zlom vstupe"
   ]
  },
  {
   "cell_type": "code",
   "execution_count": null,
   "id": "860a3d33",
   "metadata": {},
   "outputs": [],
   "source": [
    "# cislo = int(input(\"Zadaj číslo: \"))  # Zadajte text ako \"abc\" a spôsobí chybu"
   ]
  },
  {
   "cell_type": "markdown",
   "id": "f9d13e3c",
   "metadata": {},
   "source": [
    "---\n",
    "\n",
    "## 🔄 Viac vstupov naraz"
   ]
  },
  {
   "cell_type": "code",
   "execution_count": null,
   "id": "531443f7",
   "metadata": {},
   "outputs": [],
   "source": [
    "x, y = input(\"Zadaj dve čísla: \").split()\n",
    "x = int(x)\n",
    "y = int(y)\n",
    "print(\"Súčet:\", x + y)"
   ]
  },
  {
   "cell_type": "markdown",
   "id": "38d2d270",
   "metadata": {},
   "source": [
    "---\n",
    "\n",
    "## 🧠 Zhrnutie\n",
    "\n",
    "- `input()` získa vstup od používateľa ako **reťazec**\n",
    "- Pre čísla použijeme `int()` alebo `float()` na **prevod**\n",
    "- Vstup môžeme priamo uložiť do premennej\n",
    "- Viac vstupov naraz oddelíme a spracujeme so `split()`, prípadne jednotlivé dopyty pomocou funckie `input()` odelíme v kóde."
   ]
  },
  {
   "cell_type": "markdown",
   "id": "9e317d85-89d9-42cc-900a-b0cc9d029221",
   "metadata": {},
   "source": [
    "---\n",
    "\n",
    "## 🎞️ Videonávod\n",
    "\n",
    "{{< video https://www.youtube.com/embed/wo9vZccmqwc \n",
    "    title='Používateľský vstup' \n",
    ">}}\n",
    "\n",
    "---"
   ]
  }
 ],
 "metadata": {
  "kernelspec": {
   "display_name": "Python 3 (ipykernel)",
   "language": "python",
   "name": "python3"
  },
  "language_info": {
   "codemirror_mode": {
    "name": "ipython",
    "version": 3
   },
   "file_extension": ".py",
   "mimetype": "text/x-python",
   "name": "python",
   "nbconvert_exporter": "python",
   "pygments_lexer": "ipython3",
   "version": "3.12.4"
  }
 },
 "nbformat": 4,
 "nbformat_minor": 5
}
