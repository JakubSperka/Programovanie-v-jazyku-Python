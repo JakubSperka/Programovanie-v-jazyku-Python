{
 "cells": [
  {
   "cell_type": "markdown",
   "id": "a4e2c1cc",
   "metadata": {},
   "source": [
    "# 🔁 Cykly v Pythone – `for` a `while`\n",
    "\n",
    "## Úvod\n",
    "\n",
    "Cykly slúžia na **opakované vykonanie kódu**. V Pythone máme dva základné typy:\n",
    "\n",
    "- `for` – keď vieme, **koľkokrát** sa má niečo opakovať\n",
    "- `while` – keď chceme opakovať, **kým platí podmienka**"
   ]
  },
  {
   "cell_type": "markdown",
   "id": "082d00a8",
   "metadata": {},
   "source": [
    "## 🔂 Cykel `for`"
   ]
  },
  {
   "cell_type": "code",
   "execution_count": null,
   "id": "e3d67bbf",
   "metadata": {},
   "outputs": [],
   "source": [
    "for i in range(5):\n",
    "    print(\"Opakovanie:\", i)"
   ]
  },
  {
   "cell_type": "markdown",
   "id": "6766fc13",
   "metadata": {},
   "source": [
    "### 🔢 `range()` podrobnejšie"
   ]
  },
  {
   "cell_type": "code",
   "execution_count": null,
   "id": "7e8fe681",
   "metadata": {},
   "outputs": [],
   "source": [
    "for i in range(1, 6):\n",
    "    print(i)  # 1 až 5"
   ]
  },
  {
   "cell_type": "code",
   "execution_count": null,
   "id": "b19b5e6d",
   "metadata": {},
   "outputs": [],
   "source": [
    "for i in range(10, 0, -2):\n",
    "    print(i)  # 10, 8, 6, 4, 2"
   ]
  },
  {
   "cell_type": "markdown",
   "id": "a7de9ed9",
   "metadata": {},
   "source": [
    "## 🔁 Prechod cez znaky reťazca alebo zoznam"
   ]
  },
  {
   "cell_type": "code",
   "execution_count": null,
   "id": "fbca9771",
   "metadata": {},
   "outputs": [],
   "source": [
    "text = \"Python\"\n",
    "for znak in text:\n",
    "    print(znak)"
   ]
  },
  {
   "cell_type": "code",
   "execution_count": null,
   "id": "7eef7353",
   "metadata": {},
   "outputs": [],
   "source": [
    "zoznam = [3, 5, 7]\n",
    "for cislo in zoznam:\n",
    "    print(cislo * 2)"
   ]
  },
  {
   "cell_type": "markdown",
   "id": "0d770735",
   "metadata": {},
   "source": [
    "## 🔄 Cykel `while`"
   ]
  },
  {
   "cell_type": "code",
   "execution_count": null,
   "id": "0b4888d8",
   "metadata": {},
   "outputs": [],
   "source": [
    "i = 0\n",
    "while i < 5:\n",
    "    print(i)\n",
    "    i += 1"
   ]
  },
  {
   "cell_type": "markdown",
   "id": "7ac47e09",
   "metadata": {},
   "source": [
    "## ⚠️ Nekonečný cyklus"
   ]
  },
  {
   "cell_type": "code",
   "execution_count": null,
   "id": "6a8b26b3",
   "metadata": {},
   "outputs": [],
   "source": [
    "# while True:\n",
    "#     print(\"Toto beží navždy!\")  # Zastav klávesou Ctrl+C"
   ]
  },
  {
   "cell_type": "markdown",
   "id": "700b09e3",
   "metadata": {},
   "source": [
    "## ✅ Zhrnutie\n",
    "\n",
    "- `for` sa používa pri **početných opakovaniach**\n",
    "- `while` sa používa pri **podmienkach**\n",
    "- `range(start, stop, step)` generuje čísla pre `for`\n",
    "- Dávaj pozor na nekonečné cykly (`while True`)\n",
    "\n",
    "---\n",
    "\n",
    "Chceš pokračovať kapitolou o **zoznamoch (`list`)** alebo o **funkciách (`def`)**?"
   ]
  }
 ],
 "metadata": {},
 "nbformat": 4,
 "nbformat_minor": 5
}
