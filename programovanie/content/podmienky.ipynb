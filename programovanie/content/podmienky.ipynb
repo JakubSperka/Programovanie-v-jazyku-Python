{
 "cells": [
  {
   "cell_type": "raw",
   "id": "6521001d-be9b-4176-8e7a-3227d7a5e694",
   "metadata": {},
   "source": [
    "---\n",
    "title: \"Podmienky\"\n",
    "date: today\n",
    "author: \"Jakub Šperka\"\n",
    "categories: [JupyterLab, Podmienky, if, elif, else]\n",
    "---"
   ]
  },
  {
   "cell_type": "markdown",
   "id": "9de519fc",
   "metadata": {},
   "source": [
    "## 🔀 Úvod\n",
    "\n",
    "Pomocou podmienok vieme rozhodovať, **ktorý kód sa vykoná**. Typicky na základe nejakého vstupu alebo výpočtu.\n",
    "\n",
    "> ⚠️ Všetok kód, ktorý patrí do `if`, `else` alebo `elif`, **musí byť odsadený** (zvyčajne 4 medzery alebo 1 tabulátor).\n",
    "\n",
    "---"
   ]
  },
  {
   "cell_type": "markdown",
   "id": "9b0f607f",
   "metadata": {},
   "source": [
    "## 🧪 Základná podmienka `if`"
   ]
  },
  {
   "cell_type": "code",
   "execution_count": 1,
   "id": "2a981b74",
   "metadata": {},
   "outputs": [
    {
     "name": "stdout",
     "output_type": "stream",
     "text": [
      "Máš prístup.\n"
     ]
    }
   ],
   "source": [
    "vek = 18\n",
    "\n",
    "if vek >= 18:\n",
    "    print(\"Máš prístup.\")"
   ]
  },
  {
   "cell_type": "markdown",
   "id": "32fc9fe4",
   "metadata": {},
   "source": [
    "---\n",
    "\n",
    "## ➕ `else` – iná možnosť"
   ]
  },
  {
   "cell_type": "code",
   "execution_count": 2,
   "id": "69bab6b1",
   "metadata": {},
   "outputs": [
    {
     "name": "stdout",
     "output_type": "stream",
     "text": [
      "Prístup zamietnutý.\n"
     ]
    }
   ],
   "source": [
    "vek = 16\n",
    "\n",
    "if vek >= 18:\n",
    "    print(\"Máš prístup.\")\n",
    "else:\n",
    "    print(\"Prístup zamietnutý.\")"
   ]
  },
  {
   "cell_type": "markdown",
   "id": "adb35cbd",
   "metadata": {},
   "source": [
    "---\n",
    "\n",
    "## 🔁 `elif` – ďalšie možnosti"
   ]
  },
  {
   "cell_type": "code",
   "execution_count": 3,
   "id": "faf03974",
   "metadata": {},
   "outputs": [
    {
     "name": "stdout",
     "output_type": "stream",
     "text": [
      "Dobrý\n"
     ]
    }
   ],
   "source": [
    "známka = 3\n",
    "\n",
    "if známka == 1:\n",
    "    print(\"Výborný\")\n",
    "elif známka == 2:\n",
    "    print(\"Chválitebný\")\n",
    "elif známka == 3:\n",
    "    print(\"Dobrý\")\n",
    "else:\n",
    "    print(\"Iná známka\")"
   ]
  },
  {
   "cell_type": "markdown",
   "id": "5a6ee782-f53e-4c26-a1bc-53551df771b9",
   "metadata": {},
   "source": [
    "---\n",
    "\n",
    "## 🔧 Odsadenie\n",
    "\n",
    "Všetok kód, ktorý patrí do `if`, `else` alebo `elif`, **musí byť odsadený** (zvyčajne 4 medzery alebo 1 tabulátor).\n",
    "\n",
    "Chybný príklad:\n",
    "```python\n",
    "if 5 > 3:\n",
    "print(\"OK\")  # ❌ chyba – chýba odsadenie\n",
    "```\n",
    "\n",
    "Správne:\n",
    "```python\n",
    "if 5 > 3:\n",
    "    print(\"OK\")  # ✅\n",
    "```\n",
    "\n",
    "---"
   ]
  },
  {
   "cell_type": "markdown",
   "id": "d56fa654",
   "metadata": {},
   "source": [
    "## 💡 Príklady\n",
    "\n",
    "### ⚖️ Porovnanie čísel:"
   ]
  },
  {
   "cell_type": "code",
   "execution_count": 4,
   "id": "9779e4c8",
   "metadata": {},
   "outputs": [
    {
     "name": "stdout",
     "output_type": "stream",
     "text": [
      "b je väčšie\n"
     ]
    }
   ],
   "source": [
    "a = 5\n",
    "b = 10\n",
    "\n",
    "if a > b:\n",
    "    print(\"a je väčšie\")\n",
    "elif a == b:\n",
    "    print(\"a a b sú rovnaké\")\n",
    "else:\n",
    "    print(\"b je väčšie\")"
   ]
  },
  {
   "cell_type": "markdown",
   "id": "8d61dc67",
   "metadata": {},
   "source": [
    "### ⌨️ S funckiou `input()`"
   ]
  },
  {
   "cell_type": "code",
   "execution_count": 5,
   "id": "3568cb45",
   "metadata": {},
   "outputs": [
    {
     "name": "stdin",
     "output_type": "stream",
     "text": [
      "Zadaj vek:  21\n"
     ]
    },
    {
     "name": "stdout",
     "output_type": "stream",
     "text": [
      "Plnoletý\n"
     ]
    }
   ],
   "source": [
    "vek = int(input(\"Zadaj vek: \"))\n",
    "\n",
    "if vek >= 18:\n",
    "    print(\"Plnoletý\")\n",
    "else:\n",
    "    print(\"Neplnoletý\")"
   ]
  },
  {
   "cell_type": "markdown",
   "id": "c0347370",
   "metadata": {},
   "source": [
    "---\n",
    "\n",
    "## 🧠 Zhrnutie\n",
    "\n",
    "- `if` – vykoná sa, ak je podmienka pravdivá\n",
    "- `else` – vykoná sa, ak `if` neplatí\n",
    "- `elif` – pridáva ďalšie podmienky\n",
    "- Podmienky porovnávajú hodnoty pomocou relačných (porovnávacích) operátorov: `==`, `!=`, `>`, `<`, `>=`, `<=`\n",
    "- Kód vo vetvách musí byť odsadený"
   ]
  },
  {
   "cell_type": "markdown",
   "id": "9479f420-ac75-4983-af97-b0337cca3136",
   "metadata": {},
   "source": [
    "---\n",
    "\n",
    "## 🎞️ Videonávod\n",
    "\n",
    "{{< video https://www.youtube.com/embed/wo9vZccmqwc \n",
    "    title='Podmienky' \n",
    ">}}\n",
    "\n",
    "---"
   ]
  }
 ],
 "metadata": {
  "kernelspec": {
   "display_name": "Python 3 (ipykernel)",
   "language": "python",
   "name": "python3"
  },
  "language_info": {
   "codemirror_mode": {
    "name": "ipython",
    "version": 3
   },
   "file_extension": ".py",
   "mimetype": "text/x-python",
   "name": "python",
   "nbconvert_exporter": "python",
   "pygments_lexer": "ipython3",
   "version": "3.12.4"
  }
 },
 "nbformat": 4,
 "nbformat_minor": 5
}
