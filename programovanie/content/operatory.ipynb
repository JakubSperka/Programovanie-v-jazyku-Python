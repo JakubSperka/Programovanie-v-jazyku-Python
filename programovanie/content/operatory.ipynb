{
 "cells": [
  {
   "cell_type": "raw",
   "id": "f25e5033-c6e1-43ca-8c81-be1599784ebc",
   "metadata": {},
   "source": [
    "---\n",
    "title: \"Operátory\"\n",
    "date: today\n",
    "author: \"Jakub Šperka\"\n",
    "categories: [JupyterLab, Operátory, Aritmetické operácie, Porovnávanie, Logické vzťahy]\n",
    "---"
   ]
  },
  {
   "cell_type": "markdown",
   "id": "2ed372a1",
   "metadata": {},
   "source": [
    "## ➕ Úvod\n",
    "\n",
    "Operátory slúžia na vykonávanie výpočtov a porovnávanie hodnôt. V Pythone sa rozdeľujú na **aritmetické**, **relačné** a **logické**.\n",
    "\n",
    "---"
   ]
  },
  {
   "cell_type": "markdown",
   "id": "8943c826",
   "metadata": {},
   "source": [
    "## 🔢 Aritmetické operátory\n",
    "\n",
    "Používajú sa na matematické výpočty s číslami (`int`, `float`).\n",
    "\n",
    "| Operátor | Názov             | Príklad       | Výsledok |\n",
    "|----------|-------------------|---------------|----------|\n",
    "| `+`      | sčítanie           | `5 + 3`       | `8`      |\n",
    "| `-`      | odčítanie          | `5 - 2`       | `3`      |\n",
    "| `*`      | násobenie          | `4 * 2`       | `8`      |\n",
    "| `/`      | delenie (float)    | `7 / 2`       | `3.5`    |\n",
    "| `//`     | celočíselné delenie| `7 // 2`      | `3`      |\n",
    "| `%`      | zvyšok po delení   | `7 % 2`       | `1`      |\n",
    "| `**`     | umocňovanie        | `2 ** 3`      | `8`      |"
   ]
  },
  {
   "cell_type": "code",
   "execution_count": 1,
   "id": "c8504ac3",
   "metadata": {},
   "outputs": [
    {
     "name": "stdout",
     "output_type": "stream",
     "text": [
      "9\n",
      "3\n",
      "1\n",
      "49\n"
     ]
    }
   ],
   "source": [
    "a = 7\n",
    "b = 2\n",
    "print(a + b)\n",
    "print(a // b)\n",
    "print(a % b)\n",
    "print(a ** b)"
   ]
  },
  {
   "cell_type": "markdown",
   "id": "cd5536d5",
   "metadata": {},
   "source": [
    "---\n",
    "\n",
    "## ⚖️ Relačné (porovnávacie) operátory\n",
    "\n",
    "Porovnávajú dve hodnoty a vracajú `True` alebo `False`.\n",
    "\n",
    "| Operátor | Názov             | Príklad       | Výsledok |\n",
    "|----------|-------------------|---------------|----------|\n",
    "| `==`     | rovnosť           | `5 == 5`      | `True`   |\n",
    "| `!=`     | nerovnosť         | `5 != 3`      | `True`   |\n",
    "| `>`      | väčší ako         | `5 > 3`       | `True`   |\n",
    "| `<`      | menší ako         | `2 < 1`       | `False`  |\n",
    "| `>=`     | väčší alebo rovný| `5 >= 5`      | `True`   |\n",
    "| `<=`     | menší alebo rovný| `4 <= 6`      | `True`   |"
   ]
  },
  {
   "cell_type": "code",
   "execution_count": 2,
   "id": "34bd16f9",
   "metadata": {},
   "outputs": [
    {
     "name": "stdout",
     "output_type": "stream",
     "text": [
      "False\n",
      "True\n",
      "True\n"
     ]
    }
   ],
   "source": [
    "x = 10\n",
    "y = 20\n",
    "print(x == y)\n",
    "print(x < y)\n",
    "print(x != y)"
   ]
  },
  {
   "cell_type": "markdown",
   "id": "d5c511ce",
   "metadata": {},
   "source": [
    "---\n",
    "\n",
    "## 🔁 Logické operátory\n",
    "\n",
    "Spojujú viacero logických podmienok.\n",
    "\n",
    "| Operátor | Význam             | Príklad             | Výsledok |\n",
    "|----------|--------------------|---------------------|----------|\n",
    "| `and`    | logické a          | `True and False`    | `False`  |\n",
    "| `or`     | logické alebo      | `True or False`     | `True`   |\n",
    "| `not`    | logická negácia    | `not True`          | `False`  |"
   ]
  },
  {
   "cell_type": "code",
   "execution_count": 3,
   "id": "8ff91c9d",
   "metadata": {},
   "outputs": [
    {
     "name": "stdout",
     "output_type": "stream",
     "text": [
      "True\n",
      "False\n",
      "True\n",
      "False\n"
     ]
    }
   ],
   "source": [
    "x = 5\n",
    "y = 10\n",
    "\n",
    "print(x > 3 and y < 20)\n",
    "print(x > 3 and y > 20)\n",
    "print(x < 3 or y == 10)\n",
    "print(not (x == 5))"
   ]
  },
  {
   "cell_type": "markdown",
   "id": "de54fdf2",
   "metadata": {},
   "source": [
    "---\n",
    "\n",
    "## 🧠 Zhrnutie\n",
    "\n",
    "- **Aritmetické operátory**: `+`, `-`, `*`, `/`, `//`, `%`, `**`\n",
    "- **Relačné operátory**: `==`, `!=`, `<`, `>`, `<=`, `>=`\n",
    "- **Logické operátory**: `and`, `or`, `not`\n",
    "- Porovnávanie vracia `True` alebo `False`\n",
    "- Logické operácie sa často používajú v podmienkach (`if`)"
   ]
  },
  {
   "cell_type": "markdown",
   "id": "f16ade2f-860b-498a-b2a6-7b1c33bbfe4d",
   "metadata": {},
   "source": [
    "---\n",
    "\n",
    "## 🎞️ Videonávod\n",
    "\n",
    "{{< video https://www.youtube.com/embed/wo9vZccmqwc \n",
    "    title='Operátory' \n",
    ">}}\n",
    "\n",
    "---"
   ]
  }
 ],
 "metadata": {
  "kernelspec": {
   "display_name": "Python 3 (ipykernel)",
   "language": "python",
   "name": "python3"
  },
  "language_info": {
   "codemirror_mode": {
    "name": "ipython",
    "version": 3
   },
   "file_extension": ".py",
   "mimetype": "text/x-python",
   "name": "python",
   "nbconvert_exporter": "python",
   "pygments_lexer": "ipython3",
   "version": "3.12.4"
  }
 },
 "nbformat": 4,
 "nbformat_minor": 5
}
