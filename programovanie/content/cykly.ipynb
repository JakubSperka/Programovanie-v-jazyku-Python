{
 "cells": [
  {
   "cell_type": "raw",
   "id": "67088b51-318d-4e95-b7a0-2cba94a52f02",
   "metadata": {},
   "source": [
    "---\n",
    "title: \"Cykly\"\n",
    "date: today\n",
    "author: \"Jakub Šperka\"\n",
    "categories: [JupyterLab, Cykly, while, for]\n",
    "---"
   ]
  },
  {
   "cell_type": "markdown",
   "id": "a4e2c1cc",
   "metadata": {},
   "source": [
    "## 🔁 Úvod\n",
    "\n",
    "Cykly slúžia na **opakované vykonanie kódu**. V Pythone máme dva základné typy:\n",
    "\n",
    "- `for` – keď vieme, **koľkokrát** sa má niečo opakovať\n",
    "- `while` – keď chceme opakovať, **kým platí podmienka**\n",
    "\n",
    "---"
   ]
  },
  {
   "cell_type": "markdown",
   "id": "082d00a8",
   "metadata": {},
   "source": [
    "## 🔂 Cyklus `for`"
   ]
  },
  {
   "cell_type": "code",
   "execution_count": 1,
   "id": "e3d67bbf",
   "metadata": {},
   "outputs": [
    {
     "name": "stdout",
     "output_type": "stream",
     "text": [
      "Opakovanie: 0\n",
      "Opakovanie: 1\n",
      "Opakovanie: 2\n",
      "Opakovanie: 3\n",
      "Opakovanie: 4\n"
     ]
    }
   ],
   "source": [
    "for i in range(5):\n",
    "    print(\"Opakovanie:\", i)"
   ]
  },
  {
   "cell_type": "markdown",
   "id": "6766fc13",
   "metadata": {},
   "source": [
    "### 🔢 `range()`"
   ]
  },
  {
   "cell_type": "code",
   "execution_count": 2,
   "id": "7e8fe681",
   "metadata": {},
   "outputs": [
    {
     "name": "stdout",
     "output_type": "stream",
     "text": [
      "1\n",
      "2\n",
      "3\n",
      "4\n",
      "5\n"
     ]
    }
   ],
   "source": [
    "for i in range(1, 6):\n",
    "    print(i)  # 1 až 5"
   ]
  },
  {
   "cell_type": "code",
   "execution_count": 3,
   "id": "b19b5e6d",
   "metadata": {},
   "outputs": [
    {
     "name": "stdout",
     "output_type": "stream",
     "text": [
      "10\n",
      "8\n",
      "6\n",
      "4\n",
      "2\n"
     ]
    }
   ],
   "source": [
    "for i in range(10, 0, -2):\n",
    "    print(i)  # 10, 8, 6, 4, 2"
   ]
  },
  {
   "cell_type": "markdown",
   "id": "a7de9ed9",
   "metadata": {},
   "source": [
    "---\n",
    "\n",
    "## 🔁 Prechod cez znaky reťazca alebo zoznam"
   ]
  },
  {
   "cell_type": "code",
   "execution_count": 4,
   "id": "fbca9771",
   "metadata": {},
   "outputs": [
    {
     "name": "stdout",
     "output_type": "stream",
     "text": [
      "P\n",
      "y\n",
      "t\n",
      "h\n",
      "o\n",
      "n\n"
     ]
    }
   ],
   "source": [
    "text = \"Python\"\n",
    "for znak in text:\n",
    "    print(znak)"
   ]
  },
  {
   "cell_type": "code",
   "execution_count": 5,
   "id": "7eef7353",
   "metadata": {},
   "outputs": [
    {
     "name": "stdout",
     "output_type": "stream",
     "text": [
      "6\n",
      "10\n",
      "14\n"
     ]
    }
   ],
   "source": [
    "zoznam = [3, 5, 7]\n",
    "for cislo in zoznam:\n",
    "    print(cislo * 2)"
   ]
  },
  {
   "cell_type": "markdown",
   "id": "0d770735",
   "metadata": {},
   "source": [
    "---\n",
    "\n",
    "## 🔄 Cyklus `while`"
   ]
  },
  {
   "cell_type": "code",
   "execution_count": 6,
   "id": "0b4888d8",
   "metadata": {},
   "outputs": [
    {
     "name": "stdout",
     "output_type": "stream",
     "text": [
      "0\n",
      "1\n",
      "2\n",
      "3\n",
      "4\n"
     ]
    }
   ],
   "source": [
    "i = 0\n",
    "while i < 5:\n",
    "    print(i)\n",
    "    i += 1"
   ]
  },
  {
   "cell_type": "markdown",
   "id": "7ac47e09",
   "metadata": {},
   "source": [
    "---\n",
    "\n",
    "## ⚠️ Nekonečný cyklus"
   ]
  },
  {
   "cell_type": "code",
   "execution_count": 7,
   "id": "6a8b26b3",
   "metadata": {},
   "outputs": [],
   "source": [
    "# while True:\n",
    "#     print(\"Toto beží navždy!\")  # Zastavte klávesou Ctrl+C"
   ]
  },
  {
   "cell_type": "markdown",
   "id": "700b09e3",
   "metadata": {},
   "source": [
    "---\n",
    "\n",
    "## 🧠 Zhrnutie\n",
    "\n",
    "- `for` sa používa pri **početných opakovaniach**\n",
    "- `while` sa používa pri **podmienkach**\n",
    "- `range(start, stop, step)` generuje čísla pre `for`\n",
    "- Dávaj pozor na nekonečné cykly (`while True`)"
   ]
  },
  {
   "cell_type": "markdown",
   "id": "89161e19-42a1-45a2-ad79-78f7a5e289c4",
   "metadata": {},
   "source": [
    "---\n",
    "\n",
    "## 🎞️ Videonávod\n",
    "\n",
    "{{< video https://www.youtube.com/embed/wo9vZccmqwc \n",
    "    title='Podmienky' \n",
    ">}}\n",
    "\n",
    "---"
   ]
  }
 ],
 "metadata": {
  "kernelspec": {
   "display_name": "Python 3 (ipykernel)",
   "language": "python",
   "name": "python3"
  },
  "language_info": {
   "codemirror_mode": {
    "name": "ipython",
    "version": 3
   },
   "file_extension": ".py",
   "mimetype": "text/x-python",
   "name": "python",
   "nbconvert_exporter": "python",
   "pygments_lexer": "ipython3",
   "version": "3.12.4"
  }
 },
 "nbformat": 4,
 "nbformat_minor": 5
}
